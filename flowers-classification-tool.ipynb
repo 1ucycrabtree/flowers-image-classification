{
 "cells": [
  {
   "cell_type": "code",
   "execution_count": 1,
   "id": "initial_id",
   "metadata": {
    "ExecuteTime": {
     "end_time": "2024-05-02T13:48:52.138799Z",
     "start_time": "2024-05-02T13:48:40.632620Z"
    }
   },
   "outputs": [
    {
     "name": "stderr",
     "output_type": "stream",
     "text": [
      "\n",
      "KeyboardInterrupt\n",
      "\n"
     ]
    }
   ],
   "source": [
    "import torch\n",
    "import torch.nn as nn\n",
    "import torch.optim as optim\n",
    "import torch.nn.functional as F\n",
    "from torch.utils.data import DataLoader\n",
    "from torchvision.datasets import Flowers102\n",
    "from torchvision import transforms\n",
    "import matplotlib.pyplot as plt"
   ]
  },
  {
   "cell_type": "code",
   "execution_count": null,
   "id": "96e09c316e474289",
   "metadata": {
    "ExecuteTime": {
     "end_time": "2024-05-02T13:48:52.146401Z",
     "start_time": "2024-05-02T13:48:52.145777Z"
    }
   },
   "outputs": [],
   "source": [
    "transform = transforms.Compose([transforms.ToTensor(),\n",
    "                                transforms.Resize((224,224))])"
   ]
  },
  {
   "cell_type": "code",
   "execution_count": null,
   "id": "9c605becfba5bdd4",
   "metadata": {
    "ExecuteTime": {
     "end_time": "2024-05-02T13:48:52.149631Z",
     "start_time": "2024-05-02T13:48:52.148889Z"
    }
   },
   "outputs": [],
   "source": [
    "training_data = Flowers102(\n",
    "    root='',\n",
    "    split='train',\n",
    "    transform=transform,\n",
    "    download=True\n",
    ")\n",
    "\n",
    "testing_data = Flowers102(\n",
    "    root='',\n",
    "    split='test',\n",
    "    transform=transform,\n",
    "    download=True\n",
    ")\n",
    "\n",
    "evaluation_data = Flowers102(\n",
    "    root='',\n",
    "    split='val',\n",
    "    transform=transform,\n",
    "    download=True\n",
    ")"
   ]
  },
  {
   "cell_type": "code",
   "execution_count": null,
   "id": "8242e40d2faaa432",
   "metadata": {},
   "outputs": [],
   "source": [
    "training_loader = torch.utils.data.DataLoader(training_data,batch_size=4,shuffle=True, num_workers=2)\n",
    "testing_loader = torch.utils.data.DataLoader(testing_data,batch_size=4,shuffle=False, num_workers=2)"
   ]
  },
  {
   "cell_type": "code",
   "execution_count": null,
   "id": "326cf1f2f0ef6d13",
   "metadata": {},
   "outputs": [],
   "source": [
    "print('Training data has {} instances'.format(len(training_data)))\n",
    "print('Evaluation data has {} instances'.format(len(evaluation_data)))\n",
    "print('Testing data has {} instances'.format(len(testing_data)))"
   ]
  },
  {
   "cell_type": "code",
   "execution_count": null,
   "id": "5b0dc3e20cde47a8",
   "metadata": {},
   "outputs": [],
   "source": [
    "img, label = training_data[160]\n",
    "np_img = img.permute(1, 2, 0).numpy()\n",
    "plt.title(label)\n",
    "plt.imshow((np_img * 255).astype('uint8'))\n",
    "plt.axis('off')\n",
    "plt.show()"
   ]
  },
  {
   "cell_type": "code",
   "execution_count": null,
   "id": "d7e10230cb7bf051",
   "metadata": {},
   "outputs": [],
   "source": [
    "figure = plt.figure(figsize=(10, 10))\n",
    "cols, rows = 3, 5\n",
    "for i in range(1, cols * rows + 1):\n",
    "    sample_idx = torch.randint(len(training_data), size=(1,)).item()\n",
    "    img, label = training_data[sample_idx]\n",
    "    \n",
    "    np_img = img.permute(1, 2, 0).numpy()\n",
    "    figure.add_subplot(rows, cols, i)\n",
    "    plt.title(label)\n",
    "    plt.imshow((np_img * 255).astype('uint8'))\n",
    "    plt.axis('off')\n",
    "plt.show()"
   ]
  },
  {
   "cell_type": "code",
   "outputs": [],
   "source": [
    "# data augmentation so more than 10 photos per class, diversify training data"
   ],
   "metadata": {
    "collapsed": false
   },
   "id": "61484658038a8451",
   "execution_count": null
  },
  {
   "cell_type": "code",
   "execution_count": null,
   "id": "3a078c48cf4c6f50",
   "metadata": {},
   "outputs": [],
   "source": [
    "# transform simple NN into a CNN\n",
    "class FlowerClassifier(nn.Module):\n",
    "    def __init__(self):\n",
    "        super(FlowerClassifier, self).__init__()\n",
    "        self.conv1 = nn.Conv2d(3, 32, kernel_size=3, stride=1, padding=1)\n",
    "        self.conv2 = nn.Conv2d(32, 64, kernel_size=3, stride=1, padding=1)\n",
    "        self.dropout1 = nn.Dropout(0.25)\n",
    "        self.dropout2 = nn.Dropout(0.5)\n",
    "        self.fc1 = nn.Linear(64 * 56 * 56, 128)\n",
    "        self.fc2 = nn.Linear(128, 102)\n",
    "\n",
    "    def forward(self, x):\n",
    "        x = self.conv1(x)\n",
    "        x = F.relu(x)\n",
    "        x = F.max_pool2d(x, 2)\n",
    "        x = self.conv2(x)\n",
    "        x = F.relu(x)\n",
    "        x = F.max_pool2d(x, 2)\n",
    "        x = self.dropout1(x)\n",
    "        x = torch.flatten(x, 1)\n",
    "        x = self.fc1(x)\n",
    "        x = F.relu(x)\n",
    "        x = self.dropout2(x)\n",
    "        x = self.fc2(x)\n",
    "        output = F.log_softmax(x, dim=1)\n",
    "        return output"
   ]
  },
  {
   "cell_type": "code",
   "execution_count": null,
   "id": "12c749c18262bd7e",
   "metadata": {},
   "outputs": [],
   "source": [
    "training_loader = DataLoader(training_data, batch_size=32, shuffle=True)\n",
    "evaluation_loader = DataLoader(evaluation_data, batch_size=32, shuffle=False)"
   ]
  },
  {
   "cell_type": "code",
   "execution_count": null,
   "id": "68894a0c70ceda0d",
   "metadata": {},
   "outputs": [],
   "source": [
    "device = torch.device(\"cuda\" if torch.cuda.is_available() else \"cpu\")"
   ]
  },
  {
   "cell_type": "code",
   "execution_count": null,
   "id": "6f27ccac329dbf82",
   "metadata": {},
   "outputs": [],
   "source": [
    "def train(model, training_loader, evaluation_loader, criterion, optimizer, epochs=10):\n",
    "    for epoch in range(epochs):\n",
    "        model.train()\n",
    "        training_loss = 0.0\n",
    "        for inputs,labels in training_loader:\n",
    "            inputs, labels = inputs.to(device), labels.to(device)\n",
    "            optimizer.zero_grad()\n",
    "            outputs = model(inputs)\n",
    "            loss = criterion(outputs, labels)\n",
    "            loss.backward()\n",
    "            optimizer.step()\n",
    "            training_loss += loss.item() * inputs.size(0)\n",
    "        \n",
    "        training_loss /= len(training_loader.dataset)\n",
    "        \n",
    "        model.eval()\n",
    "        evaluation_loss = 0.0\n",
    "        correct = 0\n",
    "        total = 0\n",
    "        with torch.no_grad():\n",
    "            for inputs,labels in evaluation_loader:\n",
    "                inputs, labels = inputs.to(device), labels.to(device)\n",
    "                outputs = model(inputs)\n",
    "                loss = criterion(outputs, labels)\n",
    "                evaluation_loss += loss.item() * inputs.size(0)\n",
    "                _, predicted = torch.max(outputs,1)\n",
    "                total += labels.size(0)\n",
    "                correct += (predicted == labels).sum().item()\n",
    "        \n",
    "        evaluation_loss /= len(evaluation_loader.dataset)\n",
    "        evaluation_accuracy = correct / total\n",
    "        \n",
    "        print(f'Epoch {epoch+1}/{epochs}, Training Loss: {training_loss:.4f}, Evaluation Loss: {evaluation_loss:.4f}, Val Accuracy: {evaluation_accuracy:.4f}')"
   ]
  },
  {
   "cell_type": "code",
   "outputs": [],
   "source": [
    "model = FlowerClassifier()\n",
    "criterion = nn.CrossEntropyLoss()\n",
    "optimizer = optim.Adam(model.parameters(), lr=0.001)\n",
    "\n",
    "train(model, training_loader, evaluation_loader, criterion, optimizer, epochs=10)"
   ],
   "metadata": {
    "collapsed": false
   },
   "id": "3efbba6e47c9e2a6",
   "execution_count": null
  }
 ],
 "metadata": {
  "kernelspec": {
   "display_name": "Python 3 (ipykernel)",
   "language": "python",
   "name": "python3"
  },
  "language_info": {
   "codemirror_mode": {
    "name": "ipython",
    "version": 3
   },
   "file_extension": ".py",
   "mimetype": "text/x-python",
   "name": "python",
   "nbconvert_exporter": "python",
   "pygments_lexer": "ipython3",
   "version": "3.9.19"
  }
 },
 "nbformat": 4,
 "nbformat_minor": 5
}
